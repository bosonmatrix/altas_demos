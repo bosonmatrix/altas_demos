{
 "cells": [
  {
   "cell_type": "markdown",
   "metadata": {},
   "source": [
    "# Pre-configurate"
   ]
  },
  {
   "cell_type": "code",
   "execution_count": 1,
   "metadata": {},
   "outputs": [],
   "source": [
    "import numpy as np\n",
    "import pandas as pd\n",
    "# from scipy.spatial import KDTree\n",
    "from sklearn import neighbors\n",
    "import matplotlib.pyplot as plt \n",
    "import pyproj\n",
    "import os\n",
    "from tqdm import tqdm\n",
    "import warnings"
   ]
  },
  {
   "cell_type": "code",
   "execution_count": 5,
   "metadata": {},
   "outputs": [],
   "source": [
    "warnings.filterwarnings('ignore')"
   ]
  },
  {
   "cell_type": "code",
   "execution_count": 2,
   "metadata": {},
   "outputs": [],
   "source": [
    "bp_file=r'E:/phD_career/活儿/173/data/base_points/ObjResidual.txt'\n",
    "SLACP_path=r'E:/phD_career/活儿/173/data/ATLAS/2020/'\n",
    "output_file=r'E:/phD_career/活儿/173/data/base_points/ObjResidual_adjacent_cps.txt'\n",
    "\n",
    "geosrs=\"epsg:4326\"\n",
    "prosrs=\"epsg:32651\"\n",
    "level_threshold=3\n",
    "slope_threshold=0.01\n",
    "search_type='range'\n",
    "search_range=5e5\n",
    "box=[116,119,36,39]"
   ]
  },
  {
   "cell_type": "markdown",
   "metadata": {},
   "source": [
    "# Read base points"
   ]
  },
  {
   "cell_type": "code",
   "execution_count": 7,
   "metadata": {},
   "outputs": [],
   "source": [
    "def read_bp_file(bp_file):\n",
    "    '''\n",
    "    load base points file\n",
    "    input:\n",
    "    bp_file: base point file\n",
    "    output:\n",
    "    bp_digital: control points in dataframe format [longitute\tlattitute\tlevel]\n",
    "    '''\n",
    "    with open(bp_file,'r') as f:\n",
    "        bp=f.read()\n",
    "        bp_list=bp.split('\\n')\n",
    "        bp_digital=[each.split('  ') for each in bp_list[3:-1]]\n",
    "        bp_digital=np.array([list(filter(None,each)) for each in bp_digital])\n",
    "        bp_digital=bp_digital.astype('float')\n",
    "    return bp_digital[:,1:5]\n",
    "\n",
    "base_points_arr=read_bp_file(bp_file)"
   ]
  },
  {
   "cell_type": "markdown",
   "metadata": {},
   "source": [
    "# Extract adjacent control points"
   ]
  },
  {
   "cell_type": "code",
   "execution_count": 8,
   "metadata": {},
   "outputs": [
    {
     "name": "stderr",
     "output_type": "stream",
     "text": [
      "extracting adjacent control points:   0%|          | 0/27316 [00:00<?, ?it/s]"
     ]
    },
    {
     "name": "stderr",
     "output_type": "stream",
     "text": [
      "extracting adjacent control points: 100%|██████████| 27316/27316 [1:23:03<00:00,  5.48it/s]  \n"
     ]
    }
   ],
   "source": [
    "def read_cp_file(cp_file):\n",
    "    '''\n",
    "    load control points file\n",
    "    input:\n",
    "    cp_file: the control point file\n",
    "    output:\n",
    "    cp: control points in dataframe format, [index\tlongitute\tlattitute\tlevel\theight level\tterrain slope]\n",
    "    '''\n",
    "    cp = pd.read_csv(cp_file, sep='\\t', header=0)\n",
    "    return cp\n",
    "\n",
    "def project_points(points,geosrs,prosrs):\n",
    "    '''\n",
    "    geolocating the current point or points (in dataframe format)\n",
    "    input:\n",
    "    points: current point or points\n",
    "    geosrs: geo-reference system\n",
    "    prosrs: projection refrence system\n",
    "    output:\n",
    "    control points in dataframe format [longitute\tlattitute\tlevel]\n",
    "    '''\n",
    "    p1 = pyproj.Proj(init=geosrs)#WGS84\n",
    "    p2 = pyproj.Proj(init=prosrs)\n",
    "    xprj, yprj = pyproj.transform(p1, p2,points.iloc[:,1:3], points.iloc[:,1:3])\n",
    "    return xprj,yprj\n",
    "\n",
    "def extract_in_loop(base_points_arr,cp_path,geosrs,prosrs,level_threshold,slope_threshold,box=None,search_type=None,search_range=None,search_amount=None):\n",
    "    '''\n",
    "    extracting adjacent points in iterations\n",
    "    input:\n",
    "    bp_file: base point(center of the circle) file\n",
    "    cp_path: control point file\n",
    "    geosrs: geolocation refrence system\n",
    "    prosrs: projection refrence system\n",
    "    level_threshold: the altimetry accuracy threshold, control point that is HIGHER than this will be excluded\n",
    "    slope_threshold: the slope threshold, control point whose slope is HIGHER than this will be excluded\n",
    "    search_type: 'range': search by range, 'amount': search by amount of adjacent points\n",
    "    search_range: search range, in meter\n",
    "    search_amount: amount of adjacent points\n",
    "    output:\n",
    "    nearby_cp_filtered: extracted adjacent points, further filtered under slope threshold and accuracy threshold\n",
    "    '''\n",
    "    filtered_indices=[]\n",
    "\n",
    "    base_points=pd.DataFrame(base_points_arr,columns=['pointID','longitute','latitute','level'])\n",
    "    xprj,yprj=project_points(base_points.iloc[:,1:3],geosrs,prosrs)\n",
    "    base_points_prjd=base_points\n",
    "    base_points_prjd.iloc[:,1]=xprj \n",
    "    base_points_prjd.iloc[:,2]=yprj\n",
    "\n",
    "    cp_dirs=os.listdir(cp_path)\n",
    "    nearby_cp_filtered = pd.DataFrame(columns=['bp_index', 'nearby_cp'])\n",
    "\n",
    "    for index in tqdm(range(0,base_points_prjd.shape[0]),desc='extracting adjacent control points'):\n",
    "        nearby_cp_tmp=np.empty(shape=[0,4])\n",
    "        for cp_dir in cp_dirs:\n",
    "            cp_sub_dir=cp_path+cp_dir+'/data/'\n",
    "            cp_files=os.listdir(cp_sub_dir)\n",
    "            for cp_file in cp_files:\n",
    "                control_points=read_cp_file(cp_sub_dir+cp_file)\n",
    "                if (box[0]<=control_points.loc[:,'lon']).any() and (control_points.loc[:,'lon']<=box[1]).any() and (box[2]<=control_points.loc[:,'lat']).any() and (control_points.loc[:,'lat']<=box[3]).any():\n",
    "                    xprj,yprj=project_points(control_points.iloc[:,1:3],geosrs,prosrs)\n",
    "                    control_points_prjd=control_points\n",
    "                    control_points_prjd.iloc[:,1]=xprj\n",
    "                    control_points_prjd.iloc[:,2]=yprj\n",
    "                    control_points_tree=neighbors.KDTree(control_points_prjd.iloc[:,1:3].values)\n",
    "                    filtered_indices=[]\n",
    "                    if search_type=='range':\n",
    "                        nearby_cp_indices=control_points_tree.query_radius(base_points_prjd.iloc[index,1:3].values.reshape(1,-1),r=search_range)\n",
    "                    nearby_cp_indices=np.concatenate(nearby_cp_indices)\n",
    "                    for index_ in nearby_cp_indices:\n",
    "                        if control_points_prjd.iloc[index_,4]<=level_threshold and np.fabs(control_points_prjd.iloc[index_,5])<=slope_threshold:\n",
    "                            filtered_indices.append(index_)\n",
    "                        else: continue\n",
    "                    if filtered_indices:\n",
    "                        nearby_cp_tmp=np.vstack(control_points_prjd.iloc[filtered_indices,1:-1].values)\n",
    "                else:\n",
    "                    continue\n",
    "        nearby_cp_filtered.loc[len(nearby_cp_filtered),['bp_index','nearby_cp']]=[index,nearby_cp_tmp]\n",
    "    return nearby_cp_filtered\n",
    "\n",
    "extracted_points=extract_in_loop(base_points_arr,SLACP_path,geosrs,prosrs,level_threshold,slope_threshold,box,search_type,search_range)"
   ]
  },
  {
   "cell_type": "markdown",
   "metadata": {},
   "source": [
    "# Save to txt file"
   ]
  },
  {
   "cell_type": "code",
   "execution_count": 9,
   "metadata": {},
   "outputs": [
    {
     "name": "stderr",
     "output_type": "stream",
     "text": [
      "writing to file: 100%|██████████| 27316/27316 [00:12<00:00, 2182.75it/s]\n"
     ]
    }
   ],
   "source": [
    "def output_cps(base_points,nearby_cp,output_file,type=None):\n",
    "    if type==\"SAR\":\n",
    "        with open(output_file,'w+') as f:\n",
    "            amount=len(base_points)\n",
    "            f.write(str(amount)+'\\n')\n",
    "            for index in tqdm(range(amount),desc='writing to file'):\n",
    "                f.write('Begin\\t%s\\t%.4f\\t%.4f\\t%.4f\\n' %(str(base_points[index,0]),base_points[index,1],base_points[index,2],base_points[index,3]))\n",
    "                nearby_cp_tmp=nearby_cp.loc[index,'nearby_cp']\n",
    "                for each in nearby_cp_tmp:\n",
    "                    f.write('%.4f\\t%.4f\\t%.4f\\n' %(each[0],each[1],each[2]))\n",
    "                f.write('End\\n')   \n",
    "                f.write('\\n')\n",
    "    elif type=='XQsoftware':\n",
    "        with open(output_file) as f:\n",
    "            pass\n",
    "\n",
    "output_cps(base_points_arr,extracted_points,output_file,type='SAR')"
   ]
  }
 ],
 "metadata": {
  "kernelspec": {
   "display_name": "Python 3",
   "language": "python",
   "name": "python3"
  },
  "language_info": {
   "codemirror_mode": {
    "name": "ipython",
    "version": 3
   },
   "file_extension": ".py",
   "mimetype": "text/x-python",
   "name": "python",
   "nbconvert_exporter": "python",
   "pygments_lexer": "ipython3",
   "version": "3.11.5"
  }
 },
 "nbformat": 4,
 "nbformat_minor": 2
}
